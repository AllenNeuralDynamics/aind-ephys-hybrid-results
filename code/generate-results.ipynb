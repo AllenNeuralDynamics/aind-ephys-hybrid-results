{
 "cells": [
  {
   "cell_type": "markdown",
   "id": "d74598bf-ce78-44a3-a964-5bb35e6955fa",
   "metadata": {},
   "source": [
    "### Results for: \"Cloud-compatible pipelines for processing and evaluating large-scale electrophysiology data\"\n",
    "\n",
    "This notebook reproduces the panels for Figures 4, 5 and S1 of the *Cloud-compatible pipelines for processing and evaluating large-scale electrophysiology data* manuscript."
   ]
  },
  {
   "cell_type": "code",
   "execution_count": null,
   "id": "a55adc82-359f-4ba3-a633-97a5730524c9",
   "metadata": {},
   "outputs": [],
   "source": [
    "import pandas as pd\n",
    "import seaborn as sns\n",
    "from scipy import stats\n",
    "import matplotlib.pyplot as plt\n",
    "import numpy as np\n",
    "from pathlib import Path\n",
    "from itertools import combinations\n",
    "from functools import reduce\n",
    "\n",
    "import warnings\n",
    "\n",
    "from utils import plot_aggregated_results, plot_performance_curves, stat_test\n",
    "\n",
    "%matplotlib ipympl"
   ]
  },
  {
   "cell_type": "code",
   "execution_count": null,
   "id": "163ab00c-566d-4f35-a015-da2a28530b55",
   "metadata": {},
   "outputs": [],
   "source": [
    "warnings.filterwarnings(\"ignore\")"
   ]
  },
  {
   "cell_type": "code",
   "execution_count": null,
   "id": "fc408e8b-4951-49c1-9426-90103067b3f2",
   "metadata": {},
   "outputs": [],
   "source": [
    "save_figs = True"
   ]
  },
  {
   "cell_type": "code",
   "execution_count": null,
   "id": "6934e89e-bb87-4eea-87b8-b4abe4fb48e3",
   "metadata": {},
   "outputs": [],
   "source": [
    "data_folder = Path(\"../data\")\n",
    "results_folder = Path(\"../results\")"
   ]
  },
  {
   "cell_type": "markdown",
   "id": "9ef77a43-0c97-48a0-b660-2d7f39f217e6",
   "metadata": {},
   "source": [
    "# Sorters"
   ]
  },
  {
   "cell_type": "code",
   "execution_count": null,
   "id": "e7bd395a-c9b6-460d-bf17-080883576b0e",
   "metadata": {},
   "outputs": [],
   "source": [
    "figures_sorters = results_folder / \"sorters\"\n",
    "figures_sorters.mkdir(parents=True, exist_ok=True)"
   ]
  },
  {
   "cell_type": "code",
   "execution_count": null,
   "id": "b15ce15c-c61b-415d-a9eb-aa518321d40b",
   "metadata": {},
   "outputs": [],
   "source": [
    "np1_metrics = pd.read_csv(data_folder / \"sorters\" / \"np1\" / \"metrics_sorted.csv\", index_col=False)\n",
    "np2_metrics = pd.read_csv(data_folder / \"sorters\" / \"np2\" / \"metrics_sorted.csv\", index_col=False)\n",
    "all_metrics_sorters = pd.concat([np1_metrics, np2_metrics])"
   ]
  },
  {
   "cell_type": "code",
   "execution_count": null,
   "id": "167bd6b0-2c14-4fe2-8e00-dfbcd99e39a0",
   "metadata": {},
   "outputs": [],
   "source": [
    "colors_sorters = {\n",
    "    \"kilosort25\": \"C3\",\n",
    "    \"kilosort4\": \"C4\"\n",
    "}\n",
    "order_sorters = np.unique(all_metrics_sorters[\"sorting_case\"])"
   ]
  },
  {
   "cell_type": "code",
   "execution_count": null,
   "id": "5ba1f677-b345-4d4b-8d8a-fb00253a5c38",
   "metadata": {},
   "outputs": [],
   "source": [
    "metric_res_name = \"rp_contamination\"\n",
    "fig, ax = plt.subplots(figsize=(12, 7))\n",
    "sns.boxenplot(data=all_metrics_sorters, y=metric_res_name, x=\"sorting_case\",  palette=colors_sorters, ax=ax, showfliers=False, log_scale=True,\n",
    "              order=order_sorters)\n",
    "sns.despine(fig)\n",
    "ax.legend().remove()\n",
    "ax.set_ylabel(\"\")\n",
    "ax.set_xlabel(\"\")\n",
    "ax.set_xticklabels([])\n",
    "if save_figs:\n",
    "    fig.savefig(figures_sorters / \"rp_violations.pdf\")"
   ]
  },
  {
   "cell_type": "code",
   "execution_count": null,
   "id": "788c36a8-c8b5-4f43-a512-89d1bef01c9e",
   "metadata": {},
   "outputs": [],
   "source": [
    "metric_res_name = \"presence_ratio\"\n",
    "fig, ax = plt.subplots(figsize=(12, 7))\n",
    "sns.histplot(data=all_metrics_sorters, x=metric_res_name, hue=\"sorting_case\", stat=\"probability\", palette=colors_sorters, bins=20, fill=False, ax=ax)\n",
    "sns.despine(fig)\n",
    "ax.legend().remove()\n",
    "ax.set_ylabel(\"\")\n",
    "ax.set_xlabel(\"\")\n",
    "if save_figs:\n",
    "    fig.savefig(figures_sorters / \"presence_ratio.pdf\")"
   ]
  },
  {
   "cell_type": "code",
   "execution_count": null,
   "id": "2e802460-8c5f-4986-930f-861712716501",
   "metadata": {},
   "outputs": [],
   "source": [
    "test_res = stat_test(all_metrics_sorters, column_group_by=\"sorting_case\", test_columns=[\"rp_violations\", \"presence_ratio\"], paired=False, verbose=True)"
   ]
  },
  {
   "cell_type": "code",
   "execution_count": null,
   "id": "59ad72d3-6934-4123-bcff-69515ee63f44",
   "metadata": {},
   "outputs": [],
   "source": [
    "all_metrics_sorters.groupby(\"sorting_case\")[\"sorting_case\"].count()"
   ]
  },
  {
   "cell_type": "code",
   "execution_count": null,
   "id": "a752dc6b-e5c1-4c16-bce6-2d79b3e0cdfa",
   "metadata": {},
   "outputs": [],
   "source": [
    "dataframes_sorters_all = {}\n",
    "\n",
    "for probe in [\"np1\", \"np2\"]:\n",
    "    dataframes_sorters_all[probe] = {}\n",
    "    df_folder = data_folder / \"sorters\" / probe\n",
    "    dataframes = {}\n",
    "    for csv_file in df_folder.iterdir():\n",
    "        if csv_file.suffix != \".csv\":\n",
    "            continue\n",
    "        df_name = csv_file.stem\n",
    "        df = pd.read_csv(csv_file, index_col=False)\n",
    "        dataframes[df_name] = df\n",
    "    dataframes_sorters_all[probe] = dataframes"
   ]
  },
  {
   "cell_type": "code",
   "execution_count": null,
   "id": "4d793314-93da-4f99-a208-114844783c83",
   "metadata": {},
   "outputs": [],
   "source": [
    "figs_probe = {}\n",
    "for probe, dataframes in dataframes_sorters_all.items():\n",
    "    figs, dfs_merged = plot_aggregated_results(dataframes, colors_sorters)\n",
    "    # test\n",
    "    print(f\"\\n\\nTests for probe {probe}:\")\n",
    "    test_res = stat_test(dataframes[\"performances\"], column_group_by=\"sorting_case\", test_columns=[\"accuracy\", \"precision\", \"recall\"], paired=True, verbose=True)\n",
    "    figs_probe[probe] = figs\n",
    "    if save_figs:\n",
    "        for fname, fig in figs.items():\n",
    "            fig.savefig(figures_sorters / f\"{probe}_{fname}.pdf\")"
   ]
  },
  {
   "cell_type": "code",
   "execution_count": null,
   "id": "eeaf3424-bac7-4f68-9f80-682465282c5f",
   "metadata": {},
   "outputs": [],
   "source": [
    "# plot run times\n",
    "for probe, df_all in dataframes_sorters_all.items():\n",
    "    print(f\"Probe {probe}\")\n",
    "    df_runtimes = df_all[\"run_times\"]\n",
    "    print(df_runtimes.groupby(\"sorting_case\").count()[\"run_times\"])\n",
    "    df_runtimes.loc[:, \"run_times_rel\"] = df_runtimes[\"run_times\"] /  df_runtimes[\"duration\"]\n",
    "    fig, ax = plt.subplots(figsize=(7, 7))\n",
    "    sns.boxenplot(data=df_runtimes, y=\"run_times_rel\", x=\"sorting_case\",  palette=colors_sorters, ax=ax, showfliers=True, log_scale=False,\n",
    "                  order=order_sorters)\n",
    "    sns.despine(fig)\n",
    "    ax.legend().remove()\n",
    "    ax.set_ylabel(\"\")\n",
    "    ax.set_xlabel(\"\")\n",
    "    ax.set_xticklabels([])\n",
    "    if save_figs:\n",
    "        fig.savefig(figures_sorters / f\"run_times_{probe}.pdf\")"
   ]
  },
  {
   "cell_type": "markdown",
   "id": "973924c3-2ca7-49ad-8786-0297f205b90b",
   "metadata": {},
   "source": [
    "# Lossy"
   ]
  },
  {
   "cell_type": "code",
   "execution_count": null,
   "id": "1929bf0f-f1c9-4de9-9c34-9735392787ce",
   "metadata": {},
   "outputs": [],
   "source": [
    "figures_lossy = results_folder / \"lossy\"\n",
    "figures_lossy.mkdir(parents=True, exist_ok=True)"
   ]
  },
  {
   "cell_type": "code",
   "execution_count": null,
   "id": "62ca456d-81bb-48a0-81d7-02468df36bf5",
   "metadata": {},
   "outputs": [],
   "source": [
    "np1_metrics = pd.read_csv(data_folder / \"lossy\" / \"np1\" / \"metrics_sorted.csv\", index_col=False)\n",
    "np2_metrics = pd.read_csv(data_folder / \"lossy\" / \"np2\" / \"metrics_sorted.csv\", index_col=False)"
   ]
  },
  {
   "cell_type": "code",
   "execution_count": null,
   "id": "a5d9389e-fa68-4878-ab94-37763c802891",
   "metadata": {},
   "outputs": [],
   "source": [
    "all_metrics_lossy = pd.concat([np1_metrics, np2_metrics])"
   ]
  },
  {
   "cell_type": "code",
   "execution_count": null,
   "id": "cadb011f-aa82-4c74-971d-fce6159b5ad9",
   "metadata": {},
   "outputs": [],
   "source": [
    "all_metrics_lossy.groupby(\"sorting_case\")[\"sorting_case\"].count()"
   ]
  },
  {
   "cell_type": "code",
   "execution_count": null,
   "id": "a52b1d27-5c4a-4325-8417-73bbf4397401",
   "metadata": {},
   "outputs": [],
   "source": [
    "order_lossy = np.unique(all_metrics_lossy[\"sorting_case\"])\n",
    "order_lossy = [order_lossy[0]] + list(order_lossy[1:][::-1])\n",
    "colors_lossy = {}\n",
    "cmap_is = np.linspace(0.2, 0.6, len(order_lossy))\n",
    "cmap = \"Greens_r\"\n",
    "for i, s in enumerate(order_lossy[1:]):\n",
    "    cmap = plt.get_cmap(cmap)\n",
    "    colors_lossy[s] = cmap(cmap_is[i])\n",
    "colors_lossy[\"lossless\"] = \"C1\""
   ]
  },
  {
   "cell_type": "code",
   "execution_count": null,
   "id": "76b6f0d3-997b-4658-bbca-5ffd5fb855ed",
   "metadata": {},
   "outputs": [],
   "source": [
    "metric_res_name = \"rp_contamination\"\n",
    "fig, ax = plt.subplots(figsize=(12, 7))\n",
    "sns.boxenplot(data=all_metrics_lossy, y=metric_res_name, x=\"sorting_case\",  palette=colors_lossy, ax=ax, showfliers=False, log_scale=True,\n",
    "              order=order_lossy)\n",
    "sns.despine(fig)\n",
    "ax.legend().remove()\n",
    "ax.set_ylabel(\"\")\n",
    "ax.set_xlabel(\"\")\n",
    "ax.set_xticklabels([])\n",
    "if save_figs:\n",
    "    fig.savefig(figures_lossy / \"rp_violations.pdf\")"
   ]
  },
  {
   "cell_type": "code",
   "execution_count": null,
   "id": "b2c8427c-0e65-4b8e-a145-9f914a0d94cc",
   "metadata": {},
   "outputs": [],
   "source": [
    "metric_res_name = \"presence_ratio\"\n",
    "fig, ax = plt.subplots(figsize=(12, 7))\n",
    "sns.histplot(data=all_metrics_lossy, x=metric_res_name, hue=\"sorting_case\", stat=\"probability\", palette=colors_lossy, bins=20, fill=False, ax=ax)\n",
    "sns.despine(fig)\n",
    "ax.legend().remove()\n",
    "ax.set_ylabel(\"\")\n",
    "ax.set_xlabel(\"\")\n",
    "# ax.set_xlim(-0.02, 0.3)\n",
    "if save_figs:\n",
    "    fig.savefig(figures_lossy / \"presence_ratio.pdf\")"
   ]
  },
  {
   "cell_type": "code",
   "execution_count": null,
   "id": "e39bea7a-faa4-42a3-b1df-26cad9acecab",
   "metadata": {},
   "outputs": [],
   "source": [
    "test_res = stat_test(all_metrics_lossy, column_group_by=\"sorting_case\", test_columns=[\"rp_violations\", \"presence_ratio\"], verbose=True, sig=0.01)"
   ]
  },
  {
   "cell_type": "code",
   "execution_count": null,
   "id": "62916abd-6e36-4aff-b899-6ed216f99c84",
   "metadata": {},
   "outputs": [],
   "source": [
    "dataframes_lossy_all = {}\n",
    "\n",
    "for probe in [\"np1\", \"np2\"]:\n",
    "    dataframes_lossy_all[probe] = {}\n",
    "    df_folder = data_folder / \"lossy\" / probe\n",
    "    dataframes = {}\n",
    "    for csv_file in df_folder.iterdir():\n",
    "        if csv_file.suffix != \".csv\":\n",
    "            continue\n",
    "        df_name = csv_file.stem\n",
    "        df = pd.read_csv(csv_file, index_col=False)\n",
    "        dataframes[df_name] = df\n",
    "    dataframes_lossy_all[probe] = dataframes"
   ]
  },
  {
   "cell_type": "code",
   "execution_count": null,
   "id": "4909c3e0-3b29-4b8e-b7d1-0657a549e567",
   "metadata": {},
   "outputs": [],
   "source": [
    "figs_probe = {}\n",
    "for probe, dataframes in dataframes_lossy_all.items():\n",
    "    figs, _ = plot_aggregated_results(dataframes, colors_lossy, include_string_in_pair=\"lossless\")\n",
    "    # add Kilosort25 line\n",
    "    axes_perf = figs[\"performance\"].get_axes()\n",
    "    df_units_ks25 = dataframes_sorters_all[probe][\"performances\"].query(\"sorting_case == 'kilosort25'\")\n",
    "    _ = plot_performance_curves(df_units_ks25, [\"accuracy\", \"precision\", \"recall\"], [\"kilosort25\"], colors_sorters, axes_perf, lw=1.5, ls=\"--\", alpha=0.8)\n",
    "\n",
    "    figs_probe[probe] = figs\n",
    "    print(f\"\\n\\nTests for probe {probe}:\")\n",
    "    # we have to make sure counts are the same\n",
    "    df = dataframes[\"performances\"]\n",
    "    case_counts = df[\"sorting_case\"].value_counts()\n",
    "    if len(set(case_counts.values)) > 1:\n",
    "        print(\"Filtering entries to ensure paired samples\")\n",
    "        min_case = case_counts.idxmin()\n",
    "        # Step 3: Extract the combinations from the smallest case\n",
    "        valid_keys = df[df[\"sorting_case\"] == min_case][[\"stream_name\", \"session\", \"case\", \"gt_unit_id\"]].drop_duplicates()\n",
    "        # Step 4: Filter the full DataFrame to keep only rows with those combinations\n",
    "        filtered_df = df.merge(valid_keys, on=[\"stream_name\", \"session\", \"case\", \"gt_unit_id\"], how=\"inner\")\n",
    "    else:\n",
    "        filtered_df = df\n",
    "    perfs_df = dataframes[\"performances\"]\n",
    "    test_res = stat_test(filtered_df, column_group_by=\"sorting_case\", test_columns=[\"accuracy\", \"precision\", \"recall\"], paired=True, verbose=True)\n",
    "    if save_figs:\n",
    "        for fname, fig in figs.items():\n",
    "            fig.savefig(figures_lossy / f\"{probe}_{fname}.pdf\")"
   ]
  },
  {
   "cell_type": "code",
   "execution_count": null,
   "id": "a2822b3e-c960-4165-9384-6b50bcf58aab",
   "metadata": {},
   "outputs": [],
   "source": []
  }
 ],
 "metadata": {
  "kernelspec": {
   "display_name": "Python 3 (ipykernel)",
   "language": "python",
   "name": "python3"
  },
  "language_info": {
   "codemirror_mode": {
    "name": "ipython",
    "version": 3
   },
   "file_extension": ".py",
   "mimetype": "text/x-python",
   "name": "python",
   "nbconvert_exporter": "python",
   "pygments_lexer": "ipython3",
   "version": "3.12.4"
  }
 },
 "nbformat": 4,
 "nbformat_minor": 5
}
